{
 "cells": [
  {
   "cell_type": "code",
   "execution_count": 29,
   "id": "d28bec45-bf49-4722-af14-d7dfce918aa4",
   "metadata": {},
   "outputs": [],
   "source": [
    "import numpy as np\n",
    "import pandas as pd"
   ]
  },
  {
   "cell_type": "code",
   "execution_count": 31,
   "id": "ed3b7acf-b044-473b-bdd2-5ceac0b8ac08",
   "metadata": {},
   "outputs": [],
   "source": [
    "# Generate data\n",
    "np.random.seed(42)\n",
    "data_size = 100\n",
    "ages = np.random.randint(18, 60, data_size)\n",
    "genders = np.random.choice(['Male', 'Female'], data_size)\n",
    "spendings = np.random.randint(1000, 10000, data_size)\n",
    "offer_accepted = np.random.choice([0, 1], data_size)"
   ]
  },
  {
   "cell_type": "code",
   "execution_count": 33,
   "id": "76905d2c-6727-4f96-a9b6-ec256a3c94ce",
   "metadata": {},
   "outputs": [],
   "source": [
    "# Create DataFrame\n",
    "df = pd.DataFrame({\n",
    "    'Age': ages,\n",
    "    'Gender': genders,\n",
    "    'Monthly_Spend': spendings,\n",
    "    'Offer_Accepted': offer_accepted\n",
    "})"
   ]
  },
  {
   "cell_type": "code",
   "execution_count": 35,
   "id": "ee893ab4-5c2f-4d3f-9b75-0d0f9bb9b03d",
   "metadata": {},
   "outputs": [],
   "source": [
    "from sklearn.model_selection import train_test_split\n",
    "from sklearn.preprocessing import LabelEncoder"
   ]
  },
  {
   "cell_type": "code",
   "execution_count": 37,
   "id": "4fa8bd3d-cd34-4148-9037-d6ed13a4e625",
   "metadata": {},
   "outputs": [],
   "source": [
    "# Encode gender\n",
    "df['Gender'] = LabelEncoder().fit_transform(df['Gender'])  # Male = 1, Female = 0\n",
    "X = df[['Age', 'Gender', 'Monthly_Spend']]\n",
    "y = df['Offer_Accepted']"
   ]
  },
  {
   "cell_type": "code",
   "execution_count": 39,
   "id": "02289444-f2f3-4a28-94a2-eec892104b63",
   "metadata": {},
   "outputs": [],
   "source": [
    "# Train-test split\n",
    "X_train, X_test, y_train, y_test = train_test_split(X, y, test_size=0.3, random_state=42, stratify=y)"
   ]
  },
  {
   "cell_type": "code",
   "execution_count": null,
   "id": "d8e7bbdb-db13-424b-8f3e-ccfda725dd23",
   "metadata": {},
   "outputs": [],
   "source": [
    "from sklearn.linear_model import LogisticRegression\n",
    "from sklearn.metrics import accuracy_score, precision_score, recall_score, f1_score\n"
   ]
  }
 ],
 "metadata": {
  "kernelspec": {
   "display_name": "Python [conda env:base] *",
   "language": "python",
   "name": "conda-base-py"
  },
  "language_info": {
   "codemirror_mode": {
    "name": "ipython",
    "version": 3
   },
   "file_extension": ".py",
   "mimetype": "text/x-python",
   "name": "python",
   "nbconvert_exporter": "python",
   "pygments_lexer": "ipython3",
   "version": "3.12.7"
  }
 },
 "nbformat": 4,
 "nbformat_minor": 5
}
